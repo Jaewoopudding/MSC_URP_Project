{
 "cells": [
  {
   "cell_type": "markdown",
   "metadata": {},
   "source": [
    "# import libraries and defining utility functions"
   ]
  },
  {
   "cell_type": "code",
   "execution_count": 33,
   "metadata": {},
   "outputs": [],
   "source": [
    "import albumentations as A\n",
    "import cv2\n",
    "import numpy as np\n",
    "import pandas as pd\n",
    "import matplotlib.pyplot as plt\n",
    "import xml.etree.ElementTree as ET\n",
    "from xml.etree.ElementTree import Element, dump, ElementTree\n",
    "from imgaug.augmentables.bbs import BoundingBox, BoundingBoxesOnImage\n",
    "import cv2\n",
    "import os\n",
    "from pascal_voc_writer import Writer\n",
    "from xml.dom import minidom\n",
    "import imgaug as ia\n",
    "import imgaug.augmenters as iaa\n",
    "import math\n",
    "import random\n",
    "import copy\n",
    "import glob\n",
    "import os\n",
    "from tqdm import tqdm\n",
    "\n",
    "# 이미지 보여주는 함수\n",
    "def imshow(image):\n",
    "    plt.imshow(image)\n",
    "    plt.axis('off')\n",
    "    plt.show()\n",
    "\n",
    "# VOC 포맷의 xml 읽고 파싱하여 bboxes의 크기와 좌표값을 나타내는 리스트로 변환    \n",
    "def from_xml(filepath):    \n",
    "    doc = ET.parse(filepath)\n",
    "    root = doc.getroot()\n",
    "    lst = []\n",
    "    object_tag = root.findall('object')\n",
    "    for i in range(6):\n",
    "        objannot = [int(object_tag[i].find('bndbox').findtext('xmin')), \n",
    "                   int(object_tag[i].find('bndbox').findtext('ymin')),\n",
    "                   int(object_tag[i].find('bndbox').findtext('xmax')), \n",
    "                   int(object_tag[i].find('bndbox').findtext('ymax')),\n",
    "                   object_tag[i].find('name').text]\n",
    "        lst.append(objannot)\n",
    "    return lst\n",
    "\n",
    "\n",
    "BOX_COLOR = (255, 0, 0) # Red\n",
    "TEXT_COLOR = (255, 255, 255) # White\n",
    "\n",
    "# bounding box가 포함된 이미지를 반환\n",
    "def visualize_bbox(img, bbox, color = BOX_COLOR, thickness = 2, **kwargs):\n",
    "    x_min, y_min, x_max, y_max = int(bbox[0]), int(bbox[1]), int(bbox[2]), int(bbox[3])\n",
    "    cv2.rectangle(img, (x_min, y_min),(x_max, y_max),color = color, thickness = thickness)\n",
    "    return img    \n",
    "\n",
    "\n",
    "# 클래스의 이름이 포함된 이미지를 반환\n",
    "def visualize_titles(img, bbox, title, color = BOX_COLOR, thickness = 2, font_thickness = 2, font_scale=0.35, **kwargs):\n",
    "    x_min, y_min, x_max, y_max = int(bbox[0]), int(bbox[1]), int(bbox[2]), int(bbox[3])\n",
    "    ((text_width, text_height), _) = cv2.getTextSize(title, cv2.FONT_HERSHEY_SIMPLEX, font_scale, font_thickness)\n",
    "    cv2.rectangle(img, (x_min, y_min - int(1.3 * text_height)), (x_min + text_width, y_min), BOX_COLOR, -1)\n",
    "    cv2.putText(img, title, (x_min, y_min - int(0.3 * text_height)), cv2.FONT_HERSHEY_SIMPLEX, font_scale, TEXT_COLOR,\n",
    "                font_thickness, lineType=cv2.LINE_AA)\n",
    "    return img\n",
    "\n",
    "# 좌측에 원본이미지, 우측에 증강된 이미지를 보여주는 함수\n",
    "def augment_and_show(aug, image, mask = None, bboxes=[], categories = [], category_id_to_name = [],\n",
    "                    filename = None, font_scale_orig = 0.35, font_scale_aug = 0.35, show_title = True, **kwargs):\n",
    "    augmented = aug(image = image, bboxes = bboxes, category_id = categories)\n",
    "    \n",
    "    image = cv2.cvtColor(image, cv2.COLOR_BGR2RGB)\n",
    "    image_aug = cv2.cvtColor(augmented['image'], cv2.COLOR_BGR2RGB)\n",
    "\n",
    "    for bbox in bboxes :\n",
    "        visualize_bbox(image, bbox, **kwargs)\n",
    "        \n",
    "    for bbox in augmented['bboxes']:\n",
    "        visualize_bbox(image_aug, bbox, **kwargs)\n",
    "        \n",
    "    if show_title:\n",
    "        for bbox,cat_id in zip(bboxes, categories):\n",
    "            visualize_titles(image, bbox, category_id_to_name[cat_id], font_scale=font_scale_orig, **kwargs)\n",
    "        for bbox,cat_id in zip(augmented['bboxes'], augmented['category_id']):\n",
    "            visualize_titles(image_aug, bbox, category_id_to_name[cat_id], font_scale=font_scale_aug, **kwargs)\n",
    "\n",
    "            \n",
    "    f, ax = plt.subplots(1, 2, figsize=(16, 8))\n",
    "\n",
    "    ax[0].imshow(image)\n",
    "    ax[0].set_title('Original image')\n",
    "\n",
    "    ax[1].imshow(image_aug)\n",
    "    ax[1].set_title('Augmented image')\n",
    "\n",
    "    f.tight_layout()\n",
    "\n",
    "    if filename is not None:\n",
    "        f.savefig(filename)\n",
    "    return augmented['image'], augmented['bboxes']\n",
    "\n",
    "# 이미지를 출력하지는 않지만 증강작업을 수행하는 함수\n",
    "def augment_and_return(aug, image, mask = None, bboxes=[], categories = [], category_id_to_name = [],\n",
    "                    filename = None, font_scale_orig = 0.35, font_scale_aug = 0.35, show_title = True, **kwargs):\n",
    "    augmented = aug(image = image, bboxes = bboxes, category_id = categories)\n",
    "    plt.imshow(augmented['image'])\n",
    "    return augmented['image'], augmented['bboxes']\n",
    "\n",
    "# 증강된 이미지와 라벨을 지정된 위치에 저장\n",
    "def augment_and_save(Augmen1 ,saving_path, raw_path, Augmentation_multiple):\n",
    "    xml_list = []\n",
    "    for name in os.listdir(raw_path):\n",
    "        if name.endswith('xml') :\n",
    "            xml_list.append(name)\n",
    "    images_list = []\n",
    "    for name in os.listdir(raw_path):\n",
    "        if name.endswith('jpg') :\n",
    "            images_list.append(name)\n",
    "        \n",
    "    xml_list.sort()\n",
    "    images_list.sort()\n",
    "\n",
    "    for k in range(Augmentation_multiple) :\n",
    "        for i in range(len(xml_list)) : \n",
    "            label = from_xml(raw_path + '/'+ xml_list[i])\n",
    "            images = cv2.imread(raw_path + '/' + images_list[i])\n",
    "            aug_img , aug_bbox = augment_and_return(Augmen1, images, bboxes = label)\n",
    "            cv2.imwrite(os.path.join(saving_path, images_list[i].split('.')[0]+'-'+str((k+1))+'.jpg'), aug_img)\n",
    "            \n",
    "            \n",
    "            targetXML = open(os.path.join(raw_path, xml_list[i]), 'rt', encoding='UTF8')\n",
    "            tree = ET.parse(targetXML)\n",
    "            root = tree.getroot()\n",
    "            object_tag = root.findall('object')\n",
    "            for j in range(len(aug_bbox)):\n",
    "                object_tag[j].find('name').text = aug_bbox[j][4]\n",
    "                object_tag[j].find('bndbox').find('xmin').text = str(aug_bbox[j][0])\n",
    "                object_tag[j].find('bndbox').find('ymin').text = str(aug_bbox[j][1])\n",
    "                object_tag[j].find('bndbox').find('xmax').text = str(aug_bbox[j][2])\n",
    "                object_tag[j].find('bndbox').find('ymax').text = str(aug_bbox[j][3])\n",
    "            for w in range(len(aug_bbox),len(root.findall('object'))):\n",
    "                root.remove(root.findall('object')[len(aug_bbox)])\n",
    "            tree.write(os.path.join(saving_path, xml_list[i].split('.')[0]+'-'+str((k+1))))\n",
    "            \n",
    "            \n",
    "            if i % 20 == 1 :            \n",
    "                print(i,'Augmented Images has been saved')\n",
    "        print('<',k+1,'augmented dataset has been generated >')           "
   ]
  },
  {
   "cell_type": "markdown",
   "metadata": {},
   "source": [
    "# Defining Augmentation Pipeline"
   ]
  },
  {
   "cell_type": "code",
   "execution_count": 34,
   "metadata": {},
   "outputs": [],
   "source": [
    "Augmen1 = A.Compose([\n",
    "    A.Equalize(p = 0.5),\n",
    "    A.RandomResizedCrop(p = 0.7, height = 400, width = 600, scale = (0.1, 1.0), ratio = (0.75,1)),\n",
    "    A.Blur(p=0.5),\n",
    "    A.GaussNoise(p=0.75),\n",
    "    A.RandomFog(p = 0.25, fog_coef_lower = 0.1, fog_coef_upper = 0.3),\n",
    "    A.MultiplicativeNoise(multiplier=(1, 1.2), per_channel=False,  elementwise=False, \n",
    "        always_apply=False, p=0.2 ),\n",
    "    #A.VerticalFlip(),\n",
    "    #A.HorizontalFlip()\n",
    "],A.BboxParams(format = 'pascal_voc', min_visibility = 0.4))"
   ]
  },
  {
   "cell_type": "markdown",
   "metadata": {},
   "source": [
    "# Select the path and augment"
   ]
  },
  {
   "cell_type": "code",
   "execution_count": 35,
   "metadata": {},
   "outputs": [],
   "source": [
    "saving_path = os.path.join(os.getcwd(),'Augmented_data')\n",
    "raw_path = os.path.join(os.getcwd(),'data', 'coco_thick2_background','xml')"
   ]
  },
  {
   "cell_type": "code",
   "execution_count": 36,
   "metadata": {},
   "outputs": [
    {
     "name": "stdout",
     "output_type": "stream",
     "text": [
      "1 Augmented Images has been saved\n",
      "21 Augmented Images has been saved\n",
      "41 Augmented Images has been saved\n",
      "61 Augmented Images has been saved\n",
      "81 Augmented Images has been saved\n",
      "101 Augmented Images has been saved\n",
      "< 1 augmented dataset has been generated >\n"
     ]
    },
    
     "metadata": {
      "needs_background": "light"
     },
     "output_type": "display_data"
    }
   ],
   "source": [
    "augment_and_save(Augmen1, saving_path, raw_path,1)"
   ]
  },
  {
   "cell_type": "code",
   "execution_count": null,
   "metadata": {},
   "outputs": [],
   "source": []
  }
 ],
 "metadata": {
  "kernelspec": {
   "display_name": "Python 3",
   "language": "python",
   "name": "python3"
  },
  "language_info": {
   "codemirror_mode": {
    "name": "ipython",
    "version": 3
   },
   "file_extension": ".py",
   "mimetype": "text/x-python",
   "name": "python",
   "nbconvert_exporter": "python",
   "pygments_lexer": "ipython3",
   "version": "3.8.5"
  }
 },
 "nbformat": 4,
 "nbformat_minor": 4
}
