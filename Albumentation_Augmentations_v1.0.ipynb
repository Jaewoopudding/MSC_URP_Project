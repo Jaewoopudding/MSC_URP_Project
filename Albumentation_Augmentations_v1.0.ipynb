{
 "cells": [
  {
   "cell_type": "markdown",
   "metadata": {},
   "source": [
    "# import libraries and defining utility functions"
   ]
  },
  {
   "cell_type": "code",
   "execution_count": 449,
   "metadata": {},
   "outputs": [],
   "source": [
    "import albumentations as A\n",
    "import cv2\n",
    "import numpy as np\n",
    "import pandas as pd\n",
    "import matplotlib.pyplot as plt\n",
    "import xml.etree.ElementTree as ET\n",
    "from xml.etree.ElementTree import Element, dump, ElementTree\n",
    "from imgaug.augmentables.bbs import BoundingBox, BoundingBoxesOnImage\n",
    "import cv2\n",
    "import os\n",
    "from pascal_voc_writer import Writer\n",
    "from xml.dom import minidom\n",
    "import imgaug as ia\n",
    "import imgaug.augmenters as iaa\n",
    "import math\n",
    "import random\n",
    "import copy\n",
    "import glob\n",
    "import os\n",
    "random.seed(7)\n",
    "\n",
    "def writeVoc(bboxes, count, image):\n",
    "    height, width, channels = image.shape\n",
    "    imagepath = 'C:/Users/max_x/Desktop/all/'+str(count)+'.jpg'\n",
    "    xmlpath = 'C:/Users/max_x/Desktop/all/'+str(count)+'.xml'\n",
    "    writer = Writer(imagepath, width, height)\n",
    "\n",
    "    for i in bboxes:\n",
    "        writer.addObject(i[4], int(i[0]), int(i[1]), int(i[2]), int(i[3]))\n",
    "    writer.save(xmlpath)\n",
    "\n",
    "# 이미지 보여주는 함수\n",
    "def imshow(image):\n",
    "    plt.imshow(image)\n",
    "    plt.axis('off')\n",
    "    plt.show()\n",
    "\n",
    "# VOC 포맷의 xml 읽고 파싱하여 bboxes의 크기와 좌표값을 나타내는 리스트로 변환    \n",
    "def from_xml(filepath):    \n",
    "    doc = ET.parse(filepath)\n",
    "    root = doc.getroot()\n",
    "    lst = []\n",
    "    object_tag = root.findall('object')\n",
    "    for i in range(6):\n",
    "        objannot = [int(object_tag[i].find('bndbox').findtext('xmin')), \n",
    "                   int(object_tag[i].find('bndbox').findtext('ymin')),\n",
    "                   int(object_tag[i].find('bndbox').findtext('xmax')), \n",
    "                   int(object_tag[i].find('bndbox').findtext('ymax')),\n",
    "                   object_tag[i].find('name').text]\n",
    "        lst.append(objannot)\n",
    "    return lst\n",
    "\n",
    "\n",
    "BOX_COLOR = (255, 0, 0) # Red\n",
    "TEXT_COLOR = (255, 255, 255) # White\n",
    "\n",
    "# bounding box가 포함된 이미지를 반환\n",
    "def visualize_bbox(img, bbox, color = BOX_COLOR, thickness = 2, **kwargs):\n",
    "    x_min, y_min, x_max, y_max = int(bbox[0]), int(bbox[1]), int(bbox[2]), int(bbox[3])\n",
    "    cv2.rectangle(img, (x_min, y_min),(x_max, y_max),color = color, thickness = thickness)\n",
    "    return img    \n",
    "\n",
    "\n",
    "# 클래스의 이름이 포함된 이미지를 반환\n",
    "def visualize_titles(img, bbox, title, color = BOX_COLOR, thickness = 2, font_thickness = 2, font_scale=0.35, **kwargs):\n",
    "    x_min, y_min, x_max, y_max = int(bbox[0]), int(bbox[1]), int(bbox[2]), int(bbox[3])\n",
    "    ((text_width, text_height), _) = cv2.getTextSize(title, cv2.FONT_HERSHEY_SIMPLEX, font_scale, font_thickness)\n",
    "    cv2.rectangle(img, (x_min, y_min - int(1.3 * text_height)), (x_min + text_width, y_min), BOX_COLOR, -1)\n",
    "    cv2.putText(img, title, (x_min, y_min - int(0.3 * text_height)), cv2.FONT_HERSHEY_SIMPLEX, font_scale, TEXT_COLOR,\n",
    "                font_thickness, lineType=cv2.LINE_AA)\n",
    "    return img\n",
    "\n",
    "# 좌측에 원본이미지, 우측에 증강된 이미지를 보여주는 함수\n",
    "def augment_and_show(aug, image, mask = None, bboxes=[], categories = [], category_id_to_name = [],\n",
    "                    filename = None, font_scale_orig = 0.35, font_scale_aug = 0.35, show_title = True, **kwargs):\n",
    "    augmented = aug(image = image, bboxes = bboxes, category_id = categories)\n",
    "    \n",
    "    image = cv2.cvtColor(image, cv2.COLOR_BGR2RGB)\n",
    "    image_aug = cv2.cvtColor(augmented['image'], cv2.COLOR_BGR2RGB)\n",
    "\n",
    "    for bbox in bboxes :\n",
    "        visualize_bbox(image, bbox, **kwargs)\n",
    "        \n",
    "    for bbox in augmented['bboxes']:\n",
    "        visualize_bbox(image_aug, bbox, **kwargs)\n",
    "        \n",
    "    if show_title:\n",
    "        for bbox,cat_id in zip(bboxes, categories):\n",
    "            visualize_titles(image, bbox, category_id_to_name[cat_id], font_scale=font_scale_orig, **kwargs)\n",
    "        for bbox,cat_id in zip(augmented['bboxes'], augmented['category_id']):\n",
    "            visualize_titles(image_aug, bbox, category_id_to_name[cat_id], font_scale=font_scale_aug, **kwargs)\n",
    "\n",
    "            \n",
    "    f, ax = plt.subplots(1, 2, figsize=(16, 8))\n",
    "\n",
    "    ax[0].imshow(image)\n",
    "    ax[0].set_title('Original image')\n",
    "\n",
    "    ax[1].imshow(image_aug)\n",
    "    ax[1].set_title('Augmented image')\n",
    "\n",
    "    f.tight_layout()\n",
    "\n",
    "    if filename is not None:\n",
    "        f.savefig(filename)\n",
    "    return augmented['image'], augmented['bboxes']\n",
    "\n",
    "# 이미지를 출력하지는 않지만 증강작업을 수행하는 함수\n",
    "def augment_and_return(aug, image, mask = None, bboxes=[], categories = [], category_id_to_name = [],\n",
    "                    filename = None, font_scale_orig = 0.35, font_scale_aug = 0.35, show_title = True, **kwargs):\n",
    "    augmented = aug(image = image, bboxes = bboxes, category_id = categories)\n",
    "    plt.imshow(augmented['image'])\n",
    "    return augmented['image'], augmented['bboxes']\n",
    "\n",
    "# 증강된 이미지와 라벨을 지정된 위치에 저장\n",
    "def augment_and_save(saving_path, raw_path, Augmentation_multiple):\n",
    "    xml_list = []\n",
    "    for name in os.listdir(raw_path):\n",
    "        if name.endswith('xml') :\n",
    "            xml_list.append(name)\n",
    "    images_list = []\n",
    "    for name in os.listdir(raw_path):\n",
    "        if name.endswith('jpg') :\n",
    "            images_list.append(name)\n",
    "        \n",
    "    xml_list.sort()\n",
    "    images_list.sort()\n",
    "\n",
    "    for k in range(Augmentation_multiple) :\n",
    "        for i in range(len(xml_list)) : \n",
    "            label = from_xml(raw_path + '/'+ xml_list[i])\n",
    "            images = cv2.imread(raw_path + '/' + images_list[i])\n",
    "            aug_img , aug_bbox = augment_and_return(Augmen1, image, bboxes = label)\n",
    "            cv2.imwrite(os.path.join(saving_path, images_list[i].split('.')[0]+'-'+str((k+1))+'.jpg'), aug_img)\n",
    "            \n",
    "            \n",
    "            targetXML = open(os.path.join(raw_path, xml_list[i]), 'rt', encoding='UTF8')\n",
    "            tree = ET.parse(targetXML)\n",
    "            root = tree.getroot()\n",
    "            object_tag = root.findall('object')\n",
    "            for j in range(len(aug_bbox)):\n",
    "                object_tag[j].find('name').text = aug_bbox[j][4]\n",
    "                object_tag[j].find('bndbox').find('xmin').text = str(aug_bbox[j][0])\n",
    "                object_tag[j].find('bndbox').find('ymin').text = str(aug_bbox[j][1])\n",
    "                object_tag[j].find('bndbox').find('xmax').text = str(aug_bbox[j][2])\n",
    "                object_tag[j].find('bndbox').find('ymax').text = str(aug_bbox[j][3])\n",
    "            for w in range(len(aug_bbox),len(root.findall('object'))):\n",
    "                root.remove(root.findall('object')[len(aug_bbox)])\n",
    "            tree.write(os.path.join(saving_path, xml_list[i].split('.')[0]+'-'+str((k+1))))\n",
    "            \n",
    "            \n",
    "            if i % 20 == 1 :            \n",
    "                print(i,'Augmented Images has been saved')\n",
    "        print(k+1,'sets of augmented dataset has been generated')       "
   ]
  },
  {
   "cell_type": "markdown",
   "metadata": {},
   "source": [
    "# Defining Augmentation Pipeline"
   ]
  },
  {
   "cell_type": "code",
   "execution_count": 450,
   "metadata": {},
   "outputs": [],
   "source": [
    "Augmen1 = A.Compose([\n",
    "    A.Equalize(p = 0.5),\n",
    "    A.RandomResizedCrop(p = 0.7, height = 400, width = 600, scale = (0.1, 1.0), ratio = (0.75,1)),\n",
    "    A.Blur(p=0.5),\n",
    "    A.GaussNoise(p=0.75),\n",
    "    A.RandomFog(p = 0.25, fog_coef_lower = 0.1, fog_coef_upper = 0.3),\n",
    "    A.MultiplicativeNoise(multiplier=(1, 1.2), per_channel=False,  elementwise=False, \n",
    "        always_apply=False, p=0.2 ),\n",
    "    #A.VerticalFlip(),\n",
    "    #A.HorizontalFlip()\n",
    "],A.BboxParams(format = 'pascal_voc', min_visibility = 0.4))"
   ]
  },
  {
   "cell_type": "markdown",
   "metadata": {},
   "source": [
    "# Select the path and augment"
   ]
  },
  {
   "cell_type": "code",
   "execution_count": 451,
   "metadata": {},
   "outputs": [],
   "source": [
    "saving_path = os.path.join(os.getcwd(),'Augmented_data')\n",
    "raw_path = os.path.join(os.getcwd(),'data', 'coco_thick2_background','xml')"
   ]
  },
  {
   "cell_type": "code",
   "execution_count": 448,
   "metadata": {},
   "outputs": [
    {
     "name": "stdout",
     "output_type": "stream",
     "text": [
      "1 st image has been augmented\n",
      "21 st image has been augmented\n",
      "41 st image has been augmented\n",
      "61 st image has been augmented\n",
      "81 st image has been augmented\n",
      "101 st image has been augmented\n",
      "Augmentation 1 has been completed\n"
     ]
    },
    {
     "data": {
      "image/png": "[encoded data removed]",
      "text/plain": [
       "<Figure size 432x288 with 1 Axes>"
      ]
     },
     "metadata": {
      "needs_background": "light"
     },
     "output_type": "display_data"
    }
   ],
   "source": [
    "augment_and_save(saving_path, raw_path,1)"
   ]
  },
  {
   "cell_type": "code",
   "execution_count": 312,
   "metadata": {},
   "outputs": [
    {
     "data": {
      "text/plain": [
       "[<Element 'object' at 0x7fe749d41130>,\n",
       " <Element 'object' at 0x7fe749d414a0>,\n",
       " <Element 'object' at 0x7fe76b34a090>,\n",
       " <Element 'object' at 0x7fe76b34b130>,\n",
       " <Element 'object' at 0x7fe7628555e0>,\n",
       " <Element 'object' at 0x7fe762855900>]"
      ]
     },
     "execution_count": 312,
     "metadata": {},
     "output_type": "execute_result"
    }
   ],
   "source": [
    "object_tag"
   ]
  },
  {
   "cell_type": "code",
   "execution_count": 334,
   "metadata": {},
   "outputs": [
    {
     "data": {
      "text/plain": [
       "<function Element.clear()>"
      ]
     },
     "execution_count": 334,
     "metadata": {},
     "output_type": "execute_result"
    }
   ],
   "source": [
    "object_tag[3].clear"
   ]
  },
  {
   "cell_type": "code",
   "execution_count": 335,
   "metadata": {},
   "outputs": [
    {
     "data": {
      "text/plain": [
       "[<Element 'object' at 0x7fe749d41130>,\n",
       " <Element 'object' at 0x7fe749d414a0>,\n",
       " <Element 'object' at 0x7fe76b34a090>,\n",
       " <Element 'object' at 0x7fe76b34b130>,\n",
       " <Element 'object' at 0x7fe7628555e0>,\n",
       " <Element 'object' at 0x7fe762855900>]"
      ]
     },
     "execution_count": 335,
     "metadata": {},
     "output_type": "execute_result"
    }
   ],
   "source": [
    "object_tag"
   ]
  },
  {
   "cell_type": "code",
   "execution_count": 336,
   "metadata": {},
   "outputs": [
    {
     "data": {
      "text/plain": [
       "'833'"
      ]
     },
     "execution_count": 336,
     "metadata": {},
     "output_type": "execute_result"
    }
   ],
   "source": [
    "object_tag[3].find('bndbox').find('xmin').text"
   ]
  },
  {
   "cell_type": "code",
   "execution_count": 337,
   "metadata": {},
   "outputs": [
    {
     "ename": "ValueError",
     "evalue": "list.remove(x): x not in list",
     "output_type": "error",
     "traceback": [
      "\u001b[0;31m---------------------------------------------------------------------------\u001b[0m",
      "\u001b[0;31mValueError\u001b[0m                                Traceback (most recent call last)",
      "\u001b[0;32m<ipython-input-337-860e7d22669e>\u001b[0m in \u001b[0;36m<module>\u001b[0;34m\u001b[0m\n\u001b[0;32m----> 1\u001b[0;31m \u001b[0mroot\u001b[0m\u001b[0;34m.\u001b[0m\u001b[0mremove\u001b[0m\u001b[0;34m(\u001b[0m\u001b[0mobject_tag\u001b[0m\u001b[0;34m[\u001b[0m\u001b[0;36m3\u001b[0m\u001b[0;34m]\u001b[0m\u001b[0;34m)\u001b[0m\u001b[0;34m\u001b[0m\u001b[0;34m\u001b[0m\u001b[0m\n\u001b[0m",
      "\u001b[0;31mValueError\u001b[0m: list.remove(x): x not in list"
     ]
    }
   ],
   "source": [
    "root.remove(object_tag[3])"
   ]
  },
  {
   "cell_type": "code",
   "execution_count": 338,
   "metadata": {},
   "outputs": [
    {
     "data": {
      "text/plain": [
       "'833'"
      ]
     },
     "execution_count": 338,
     "metadata": {},
     "output_type": "execute_result"
    }
   ],
   "source": [
    "object_tag[3].find('bndbox').find('xmin').text"
   ]
  },
  {
   "cell_type": "code",
   "execution_count": 339,
   "metadata": {},
   "outputs": [
    {
     "data": {
      "text/plain": [
       "<Element 'annotation' at 0x7fe753c337c0>"
      ]
     },
     "execution_count": 339,
     "metadata": {},
     "output_type": "execute_result"
    }
   ],
   "source": [
    "root"
   ]
  },
  {
   "cell_type": "code",
   "execution_count": 398,
   "metadata": {},
   "outputs": [
    {
     "data": {
      "text/plain": [
       "<_io.TextIOWrapper name='/Users/jaewoo/Co-op/data/coco_thick2_background/xml/2_103.xml' mode='rt' encoding='UTF8'>"
      ]
     },
     "execution_count": 398,
     "metadata": {},
     "output_type": "execute_result"
    }
   ],
   "source": [
    "targetXML"
   ]
  },
  {
   "cell_type": "code",
   "execution_count": 399,
   "metadata": {},
   "outputs": [],
   "source": [
    "tree = ET.parse(targetXML)"
   ]
  },
  {
   "cell_type": "code",
   "execution_count": 400,
   "metadata": {},
   "outputs": [
    {
     "data": {
      "text/plain": [
       "[<Element 'object' at 0x7fe762887130>, <Element 'object' at 0x7fe762887450>]"
      ]
     },
     "execution_count": 400,
     "metadata": {},
     "output_type": "execute_result"
    }
   ],
   "source": [
    "root.findall('object')"
   ]
  },
  {
   "cell_type": "code",
   "execution_count": 403,
   "metadata": {},
   "outputs": [
    {
     "data": {
      "text/plain": [
       "<Element 'object' at 0x7fe762887130>"
      ]
     },
     "execution_count": 403,
     "metadata": {},
     "output_type": "execute_result"
    }
   ],
   "source": [
    "root.findall('object')[0]"
   ]
  },
  {
   "cell_type": "code",
   "execution_count": 374,
   "metadata": {},
   "outputs": [
    {
     "ename": "IndexError",
     "evalue": "list index out of range",
     "output_type": "error",
     "traceback": [
      "\u001b[0;31m---------------------------------------------------------------------------\u001b[0m",
      "\u001b[0;31mIndexError\u001b[0m                                Traceback (most recent call last)",
      "\u001b[0;32m<ipython-input-374-c88866d17a66>\u001b[0m in \u001b[0;36m<module>\u001b[0;34m\u001b[0m\n\u001b[1;32m      1\u001b[0m \u001b[0;32mfor\u001b[0m \u001b[0mw\u001b[0m \u001b[0;32min\u001b[0m \u001b[0mrange\u001b[0m\u001b[0;34m(\u001b[0m\u001b[0;36m2\u001b[0m\u001b[0;34m,\u001b[0m\u001b[0;36m6\u001b[0m\u001b[0;34m)\u001b[0m\u001b[0;34m:\u001b[0m\u001b[0;34m\u001b[0m\u001b[0;34m\u001b[0m\u001b[0m\n\u001b[0;32m----> 2\u001b[0;31m     \u001b[0mroot\u001b[0m\u001b[0;34m.\u001b[0m\u001b[0mremove\u001b[0m\u001b[0;34m(\u001b[0m\u001b[0mroot\u001b[0m\u001b[0;34m.\u001b[0m\u001b[0mfindall\u001b[0m\u001b[0;34m(\u001b[0m\u001b[0;34m'object'\u001b[0m\u001b[0;34m)\u001b[0m\u001b[0;34m[\u001b[0m\u001b[0mw\u001b[0m\u001b[0;34m]\u001b[0m\u001b[0;34m)\u001b[0m\u001b[0;34m\u001b[0m\u001b[0;34m\u001b[0m\u001b[0m\n\u001b[0m",
      "\u001b[0;31mIndexError\u001b[0m: list index out of range"
     ]
    }
   ],
   "source": [
    "for w in range(4,6):\n",
    "    root.remove(root.findall('object')[w])"
   ]
  },
  {
   "cell_type": "code",
   "execution_count": 406,
   "metadata": {},
   "outputs": [],
   "source": [
    "targetXML = open(os.path.join(raw_path, xml_list[0]), 'rt', encoding='UTF8')"
   ]
  },
  {
   "cell_type": "code",
   "execution_count": 407,
   "metadata": {},
   "outputs": [
    {
     "data": {
      "text/plain": [
       "<_io.TextIOWrapper name='/Users/jaewoo/Co-op/data/coco_thick2_background/xml/2_1.xml' mode='rt' encoding='UTF8'>"
      ]
     },
     "execution_count": 407,
     "metadata": {},
     "output_type": "execute_result"
    }
   ],
   "source": [
    "targetXML"
   ]
  },
  {
   "cell_type": "code",
   "execution_count": 408,
   "metadata": {},
   "outputs": [],
   "source": [
    "tree = ET.parse(targetXML)"
   ]
  },
  {
   "cell_type": "code",
   "execution_count": 409,
   "metadata": {},
   "outputs": [],
   "source": [
    "root = tree.getroot()"
   ]
  },
  {
   "cell_type": "code",
   "execution_count": 411,
   "metadata": {},
   "outputs": [
    {
     "data": {
      "text/plain": [
       "6"
      ]
     },
     "execution_count": 411,
     "metadata": {},
     "output_type": "execute_result"
    }
   ],
   "source": [
    "len(root.findall('object'))"
   ]
  },
  {
   "cell_type": "code",
   "execution_count": 436,
   "metadata": {},
   "outputs": [],
   "source": [
    "targetXML = open(os.path.join(raw_path, xml_list[102]), 'rt', encoding='UTF8')"
   ]
  },
  {
   "cell_type": "code",
   "execution_count": 437,
   "metadata": {},
   "outputs": [
    {
     "data": {
      "text/plain": [
       "<_io.TextIOWrapper name='/Users/jaewoo/Co-op/data/coco_thick2_background/xml/2_99.xml' mode='rt' encoding='UTF8'>"
      ]
     },
     "execution_count": 437,
     "metadata": {},
     "output_type": "execute_result"
    }
   ],
   "source": [
    "targetXML"
   ]
  },
  {
   "cell_type": "code",
   "execution_count": 438,
   "metadata": {},
   "outputs": [],
   "source": [
    "tree = ET.parse(targetXML)\n",
    "root = tree.getroot()"
   ]
  },
  {
   "cell_type": "code",
   "execution_count": 439,
   "metadata": {},
   "outputs": [
    {
     "data": {
      "text/plain": [
       "[<Element 'object' at 0x7fe744b37a40>,\n",
       " <Element 'object' at 0x7fe73e245a90>,\n",
       " <Element 'object' at 0x7fe73e2457c0>,\n",
       " <Element 'object' at 0x7fe73e2452c0>,\n",
       " <Element 'object' at 0x7fe765e0e950>,\n",
       " <Element 'object' at 0x7fe765e0ea90>]"
      ]
     },
     "execution_count": 439,
     "metadata": {},
     "output_type": "execute_result"
    }
   ],
   "source": [
    "root.findall('object')"
   ]
  },
  {
   "cell_type": "code",
   "execution_count": 441,
   "metadata": {},
   "outputs": [],
   "source": [
    "targetXML = open(os.path.join(raw_path, xml_list[i]), 'rt', encoding='UTF8')"
   ]
  },
  {
   "cell_type": "code",
   "execution_count": 442,
   "metadata": {},
   "outputs": [],
   "source": [
    "tree = ET.parse(targetXML)\n",
    "root = tree.getroot()"
   ]
  },
  {
   "cell_type": "code",
   "execution_count": 444,
   "metadata": {},
   "outputs": [
    {
     "ename": "TypeError",
     "evalue": "remove() argument must be xml.etree.ElementTree.Element, not list",
     "output_type": "error",
     "traceback": [
      "\u001b[0;31m---------------------------------------------------------------------------\u001b[0m",
      "\u001b[0;31mTypeError\u001b[0m                                 Traceback (most recent call last)",
      "\u001b[0;32m<ipython-input-444-9ec6406c34cc>\u001b[0m in \u001b[0;36m<module>\u001b[0;34m\u001b[0m\n\u001b[0;32m----> 1\u001b[0;31m \u001b[0mroot\u001b[0m\u001b[0;34m.\u001b[0m\u001b[0mremove\u001b[0m\u001b[0;34m(\u001b[0m\u001b[0mroot\u001b[0m\u001b[0;34m.\u001b[0m\u001b[0mfindall\u001b[0m\u001b[0;34m(\u001b[0m\u001b[0;34m'object'\u001b[0m\u001b[0;34m)\u001b[0m\u001b[0;34m[\u001b[0m\u001b[0;36m4\u001b[0m\u001b[0;34m:\u001b[0m\u001b[0;34m]\u001b[0m\u001b[0;34m)\u001b[0m\u001b[0;34m\u001b[0m\u001b[0;34m\u001b[0m\u001b[0m\n\u001b[0m",
      "\u001b[0;31mTypeError\u001b[0m: remove() argument must be xml.etree.ElementTree.Element, not list"
     ]
    }
   ],
   "source": [
    "root.remove(root.findall('object')[4:])"
   ]
  },
  {
   "cell_type": "code",
   "execution_count": 440,
   "metadata": {},
   "outputs": [
    {
     "data": {
      "text/plain": [
       "4"
      ]
     },
     "execution_count": 440,
     "metadata": {},
     "output_type": "execute_result"
    }
   ],
   "source": [
    "len(aug_bbox)"
   ]
  },
  {
   "cell_type": "code",
   "execution_count": null,
   "metadata": {},
   "outputs": [],
   "source": []
  }
 ],
 "metadata": {
  "kernelspec": {
   "display_name": "Python 3",
   "language": "python",
   "name": "python3"
  },
  "language_info": {
   "codemirror_mode": {
    "name": "ipython",
    "version": 3
   },
   "file_extension": ".py",
   "mimetype": "text/x-python",
   "name": "python",
   "nbconvert_exporter": "python",
   "pygments_lexer": "ipython3",
   "version": "3.8.5"
  }
 },
 "nbformat": 4,
 "nbformat_minor": 4
}
